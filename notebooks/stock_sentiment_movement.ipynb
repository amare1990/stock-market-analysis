{
 "cells": [
  {
   "cell_type": "code",
   "execution_count": 1,
   "id": "8bfa2ebb-1a42-45c5-ab90-902ea0f31660",
   "metadata": {},
   "outputs": [],
   "source": [
    "import os, sys\n",
    "import pandas as pd\n",
    "cur_dir = os.getcwd()\n",
    "parent_dir = os.path.dirname(cur_dir)\n",
    "sys.path.insert(0, parent_dir)"
   ]
  },
  {
   "cell_type": "code",
   "execution_count": 2,
   "id": "d484dcf2-7f84-4169-b8f3-c222d6999c45",
   "metadata": {},
   "outputs": [],
   "source": [
    "stock_path = \"/home/am//Documents/Software Development/10_Academy Training/week1/Data/yfinance_data/AAPL_historical_data.csv\"\n",
    "news_path = \"/home/am//Documents/Software Development/10_Academy Training/week1/Data/raw_analyst_ratings.csv\""
   ]
  },
  {
   "cell_type": "code",
   "execution_count": 3,
   "id": "5609352e-4678-464b-9374-f49138331aa6",
   "metadata": {},
   "outputs": [],
   "source": [
    "from scripts.stock_sentiment_movement import stock_news_movement_analysis"
   ]
  },
  {
   "cell_type": "code",
   "execution_count": 4,
   "id": "cc81370a-cd96-4f2b-970f-c0db35e955eb",
   "metadata": {},
   "outputs": [],
   "source": [
    "# Initialize the stock_news_analysis object\n",
    "tickers = \"AAPL\"\n",
    "start_date = \"1980-12-12\"\n",
    "end_date = \"2024-07-30\"\n",
    "output_folder = \"./output_sentiment_movement\"\n",
    "\n",
    "analysis = stock_news_movement_analysis(tickers, start_date, end_date, output_folder)"
   ]
  },
  {
   "cell_type": "code",
   "execution_count": 5,
   "id": "b0bef7e3-b267-46c8-bfb6-b7ef5d8da8cd",
   "metadata": {},
   "outputs": [
    {
     "name": "stderr",
     "output_type": "stream",
     "text": [
      "[*********************100%***********************]  1 of 1 completed"
     ]
    },
    {
     "name": "stdout",
     "output_type": "stream",
     "text": [
      "Stock data for AAPL from 1980-12-12 to 2024-07-30 downloaded successfully.\n"
     ]
    },
    {
     "name": "stderr",
     "output_type": "stream",
     "text": [
      "\n"
     ]
    }
   ],
   "source": [
    "analysis.download_stock_data()"
   ]
  },
  {
   "cell_type": "code",
   "execution_count": 6,
   "id": "80265310-3f0c-4918-ba88-4db60770e616",
   "metadata": {},
   "outputs": [
    {
     "name": "stdout",
     "output_type": "stream",
     "text": [
      "News data loaded successfully.\n"
     ]
    }
   ],
   "source": [
    "analysis.load_news_data(news_path)"
   ]
  },
  {
   "cell_type": "code",
   "execution_count": 7,
   "id": "7a5881ef-ad87-4293-868f-17508e92a9e3",
   "metadata": {},
   "outputs": [
    {
     "name": "stdout",
     "output_type": "stream",
     "text": [
      "Data cleaning completed. Stock and news data are ready for analysis.\n"
     ]
    }
   ],
   "source": [
    "analysis.clean_data()"
   ]
  },
  {
   "cell_type": "code",
   "execution_count": 8,
   "id": "452ec523-184b-4b6c-ba63-4e51e700009a",
   "metadata": {},
   "outputs": [
    {
     "data": {
      "text/plain": [
       "Index(['Date', 'Adj Close', 'Close', 'High', 'Low', 'Open', 'Volume'], dtype='object')"
      ]
     },
     "execution_count": 8,
     "metadata": {},
     "output_type": "execute_result"
    }
   ],
   "source": [
    "analysis.stock_data.columns"
   ]
  },
  {
   "cell_type": "code",
   "execution_count": 9,
   "id": "2ff58938-9587-487d-a3ea-1986fde72efb",
   "metadata": {},
   "outputs": [
    {
     "data": {
      "text/plain": [
       "Index(['headline', 'url', 'publisher', 'Date', 'stock'], dtype='object')"
      ]
     },
     "execution_count": 9,
     "metadata": {},
     "output_type": "execute_result"
    }
   ],
   "source": [
    "analysis.news_data.columns"
   ]
  },
  {
   "cell_type": "code",
   "execution_count": 10,
   "id": "47664d30-8156-4f11-8add-d77c9247fa32",
   "metadata": {},
   "outputs": [
    {
     "name": "stdout",
     "output_type": "stream",
     "text": [
      "Merged data contains 10 rows.\n"
     ]
    }
   ],
   "source": [
    "analysis.merge_data()"
   ]
  },
  {
   "cell_type": "code",
   "execution_count": 11,
   "id": "93b64df2-f4dd-4989-b9db-d8f1820d3557",
   "metadata": {},
   "outputs": [
    {
     "data": {
      "text/plain": [
       "Index(['headline', 'url', 'publisher', 'Date', 'stock', 'Adj Close', 'Close',\n",
       "       'High', 'Low', 'Open', 'Volume'],\n",
       "      dtype='object')"
      ]
     },
     "execution_count": 11,
     "metadata": {},
     "output_type": "execute_result"
    }
   ],
   "source": [
    "analysis.merged_data.columns"
   ]
  },
  {
   "cell_type": "code",
   "execution_count": 12,
   "id": "6ad0a705-18c7-4120-9473-8c08c3e3398d",
   "metadata": {},
   "outputs": [
    {
     "name": "stdout",
     "output_type": "stream",
     "text": [
      "Merged data saved to ./output_sentiment_movement/merged_stock_news_data.csv.\n"
     ]
    }
   ],
   "source": [
    "analysis.save_data()"
   ]
  },
  {
   "cell_type": "code",
   "execution_count": 13,
   "id": "3ab8c5da-2569-47b8-b43c-8f25df04c9e8",
   "metadata": {},
   "outputs": [
    {
     "data": {
      "text/html": [
       "<div>\n",
       "<style scoped>\n",
       "    .dataframe tbody tr th:only-of-type {\n",
       "        vertical-align: middle;\n",
       "    }\n",
       "\n",
       "    .dataframe tbody tr th {\n",
       "        vertical-align: top;\n",
       "    }\n",
       "\n",
       "    .dataframe thead th {\n",
       "        text-align: right;\n",
       "    }\n",
       "</style>\n",
       "<table border=\"1\" class=\"dataframe\">\n",
       "  <thead>\n",
       "    <tr style=\"text-align: right;\">\n",
       "      <th></th>\n",
       "      <th>headline</th>\n",
       "      <th>url</th>\n",
       "      <th>publisher</th>\n",
       "      <th>Date</th>\n",
       "      <th>stock</th>\n",
       "      <th>Adj Close</th>\n",
       "      <th>Close</th>\n",
       "      <th>High</th>\n",
       "      <th>Low</th>\n",
       "      <th>Open</th>\n",
       "      <th>Volume</th>\n",
       "    </tr>\n",
       "  </thead>\n",
       "  <tbody>\n",
       "    <tr>\n",
       "      <th>0</th>\n",
       "      <td>Tech Stocks And FAANGS Strong Again To Start D...</td>\n",
       "      <td>https://www.benzinga.com/government/20/06/1622...</td>\n",
       "      <td>JJ Kinahan</td>\n",
       "      <td>2020-06-10</td>\n",
       "      <td>AAPL</td>\n",
       "      <td>85.953064</td>\n",
       "      <td>88.209999</td>\n",
       "      <td>88.692497</td>\n",
       "      <td>86.522499</td>\n",
       "      <td>86.974998</td>\n",
       "      <td>166651600</td>\n",
       "    </tr>\n",
       "    <tr>\n",
       "      <th>1</th>\n",
       "      <td>10 Biggest Price Target Changes For Wednesday</td>\n",
       "      <td>https://www.benzinga.com/analyst-ratings/price...</td>\n",
       "      <td>Lisa Levin</td>\n",
       "      <td>2020-06-10</td>\n",
       "      <td>AAPL</td>\n",
       "      <td>85.953064</td>\n",
       "      <td>88.209999</td>\n",
       "      <td>88.692497</td>\n",
       "      <td>86.522499</td>\n",
       "      <td>86.974998</td>\n",
       "      <td>166651600</td>\n",
       "    </tr>\n",
       "    <tr>\n",
       "      <th>2</th>\n",
       "      <td>Benzinga Pro's Top 5 Stocks To Watch For Wed.,...</td>\n",
       "      <td>https://www.benzinga.com/short-sellers/20/06/1...</td>\n",
       "      <td>Benzinga Newsdesk</td>\n",
       "      <td>2020-06-10</td>\n",
       "      <td>AAPL</td>\n",
       "      <td>85.953064</td>\n",
       "      <td>88.209999</td>\n",
       "      <td>88.692497</td>\n",
       "      <td>86.522499</td>\n",
       "      <td>86.974998</td>\n",
       "      <td>166651600</td>\n",
       "    </tr>\n",
       "    <tr>\n",
       "      <th>3</th>\n",
       "      <td>Deutsche Bank Maintains Buy on Apple, Raises P...</td>\n",
       "      <td>https://www.benzinga.com/news/20/06/16219873/d...</td>\n",
       "      <td>Benzinga Newsdesk</td>\n",
       "      <td>2020-06-10</td>\n",
       "      <td>AAPL</td>\n",
       "      <td>85.953064</td>\n",
       "      <td>88.209999</td>\n",
       "      <td>88.692497</td>\n",
       "      <td>86.522499</td>\n",
       "      <td>86.974998</td>\n",
       "      <td>166651600</td>\n",
       "    </tr>\n",
       "    <tr>\n",
       "      <th>4</th>\n",
       "      <td>Apple To Let Users Trade In Their Mac Computer...</td>\n",
       "      <td>https://www.benzinga.com/news/20/06/16218697/a...</td>\n",
       "      <td>Neer Varshney</td>\n",
       "      <td>2020-06-10</td>\n",
       "      <td>AAPL</td>\n",
       "      <td>85.953064</td>\n",
       "      <td>88.209999</td>\n",
       "      <td>88.692497</td>\n",
       "      <td>86.522499</td>\n",
       "      <td>86.974998</td>\n",
       "      <td>166651600</td>\n",
       "    </tr>\n",
       "    <tr>\n",
       "      <th>5</th>\n",
       "      <td>Big Tech Reaches New Record Heights At The Sto...</td>\n",
       "      <td>https://www.benzinga.com/news/20/06/16218615/b...</td>\n",
       "      <td>Neer Varshney</td>\n",
       "      <td>2020-06-10</td>\n",
       "      <td>AAPL</td>\n",
       "      <td>85.953064</td>\n",
       "      <td>88.209999</td>\n",
       "      <td>88.692497</td>\n",
       "      <td>86.522499</td>\n",
       "      <td>86.974998</td>\n",
       "      <td>166651600</td>\n",
       "    </tr>\n",
       "    <tr>\n",
       "      <th>6</th>\n",
       "      <td>Why Apple's Stock Is Trading Higher Today</td>\n",
       "      <td>https://www.benzinga.com/news/20/06/16215446/w...</td>\n",
       "      <td>Tanzeel Akhtar</td>\n",
       "      <td>2020-06-09</td>\n",
       "      <td>AAPL</td>\n",
       "      <td>83.797165</td>\n",
       "      <td>85.997498</td>\n",
       "      <td>86.402496</td>\n",
       "      <td>83.002502</td>\n",
       "      <td>83.035004</td>\n",
       "      <td>147712400</td>\n",
       "    </tr>\n",
       "    <tr>\n",
       "      <th>7</th>\n",
       "      <td>Apple Could Announce In-House Chips For Macs A...</td>\n",
       "      <td>https://www.benzinga.com/news/20/06/16214115/a...</td>\n",
       "      <td>Shanthi Rexaline</td>\n",
       "      <td>2020-06-09</td>\n",
       "      <td>AAPL</td>\n",
       "      <td>83.797165</td>\n",
       "      <td>85.997498</td>\n",
       "      <td>86.402496</td>\n",
       "      <td>83.002502</td>\n",
       "      <td>83.035004</td>\n",
       "      <td>147712400</td>\n",
       "    </tr>\n",
       "    <tr>\n",
       "      <th>8</th>\n",
       "      <td>Apple shares are trading higher despite market...</td>\n",
       "      <td>https://www.benzinga.com/wiim/20/06/16214320/a...</td>\n",
       "      <td>Benzinga Newsdesk</td>\n",
       "      <td>2020-06-09</td>\n",
       "      <td>AAPL</td>\n",
       "      <td>83.797165</td>\n",
       "      <td>85.997498</td>\n",
       "      <td>86.402496</td>\n",
       "      <td>83.002502</td>\n",
       "      <td>83.035004</td>\n",
       "      <td>147712400</td>\n",
       "    </tr>\n",
       "    <tr>\n",
       "      <th>9</th>\n",
       "      <td>Sonos Shares Spike To Session High, Now Up 9.5...</td>\n",
       "      <td>https://www.benzinga.com/m-a/20/06/16213381/so...</td>\n",
       "      <td>Benzinga Newsdesk</td>\n",
       "      <td>2020-06-09</td>\n",
       "      <td>AAPL</td>\n",
       "      <td>83.797165</td>\n",
       "      <td>85.997498</td>\n",
       "      <td>86.402496</td>\n",
       "      <td>83.002502</td>\n",
       "      <td>83.035004</td>\n",
       "      <td>147712400</td>\n",
       "    </tr>\n",
       "  </tbody>\n",
       "</table>\n",
       "</div>"
      ],
      "text/plain": [
       "                                            headline  \\\n",
       "0  Tech Stocks And FAANGS Strong Again To Start D...   \n",
       "1      10 Biggest Price Target Changes For Wednesday   \n",
       "2  Benzinga Pro's Top 5 Stocks To Watch For Wed.,...   \n",
       "3  Deutsche Bank Maintains Buy on Apple, Raises P...   \n",
       "4  Apple To Let Users Trade In Their Mac Computer...   \n",
       "5  Big Tech Reaches New Record Heights At The Sto...   \n",
       "6          Why Apple's Stock Is Trading Higher Today   \n",
       "7  Apple Could Announce In-House Chips For Macs A...   \n",
       "8  Apple shares are trading higher despite market...   \n",
       "9  Sonos Shares Spike To Session High, Now Up 9.5...   \n",
       "\n",
       "                                                 url          publisher  \\\n",
       "0  https://www.benzinga.com/government/20/06/1622...         JJ Kinahan   \n",
       "1  https://www.benzinga.com/analyst-ratings/price...         Lisa Levin   \n",
       "2  https://www.benzinga.com/short-sellers/20/06/1...  Benzinga Newsdesk   \n",
       "3  https://www.benzinga.com/news/20/06/16219873/d...  Benzinga Newsdesk   \n",
       "4  https://www.benzinga.com/news/20/06/16218697/a...      Neer Varshney   \n",
       "5  https://www.benzinga.com/news/20/06/16218615/b...      Neer Varshney   \n",
       "6  https://www.benzinga.com/news/20/06/16215446/w...     Tanzeel Akhtar   \n",
       "7  https://www.benzinga.com/news/20/06/16214115/a...   Shanthi Rexaline   \n",
       "8  https://www.benzinga.com/wiim/20/06/16214320/a...  Benzinga Newsdesk   \n",
       "9  https://www.benzinga.com/m-a/20/06/16213381/so...  Benzinga Newsdesk   \n",
       "\n",
       "         Date stock  Adj Close      Close       High        Low       Open  \\\n",
       "0  2020-06-10  AAPL  85.953064  88.209999  88.692497  86.522499  86.974998   \n",
       "1  2020-06-10  AAPL  85.953064  88.209999  88.692497  86.522499  86.974998   \n",
       "2  2020-06-10  AAPL  85.953064  88.209999  88.692497  86.522499  86.974998   \n",
       "3  2020-06-10  AAPL  85.953064  88.209999  88.692497  86.522499  86.974998   \n",
       "4  2020-06-10  AAPL  85.953064  88.209999  88.692497  86.522499  86.974998   \n",
       "5  2020-06-10  AAPL  85.953064  88.209999  88.692497  86.522499  86.974998   \n",
       "6  2020-06-09  AAPL  83.797165  85.997498  86.402496  83.002502  83.035004   \n",
       "7  2020-06-09  AAPL  83.797165  85.997498  86.402496  83.002502  83.035004   \n",
       "8  2020-06-09  AAPL  83.797165  85.997498  86.402496  83.002502  83.035004   \n",
       "9  2020-06-09  AAPL  83.797165  85.997498  86.402496  83.002502  83.035004   \n",
       "\n",
       "      Volume  \n",
       "0  166651600  \n",
       "1  166651600  \n",
       "2  166651600  \n",
       "3  166651600  \n",
       "4  166651600  \n",
       "5  166651600  \n",
       "6  147712400  \n",
       "7  147712400  \n",
       "8  147712400  \n",
       "9  147712400  "
      ]
     },
     "execution_count": 13,
     "metadata": {},
     "output_type": "execute_result"
    }
   ],
   "source": [
    "analysis.merged_data"
   ]
  },
  {
   "cell_type": "code",
   "execution_count": 14,
   "id": "b3307565-e6a9-4cf2-bc28-fe8214f19740",
   "metadata": {},
   "outputs": [
    {
     "data": {
      "text/html": [
       "<div>\n",
       "<style scoped>\n",
       "    .dataframe tbody tr th:only-of-type {\n",
       "        vertical-align: middle;\n",
       "    }\n",
       "\n",
       "    .dataframe tbody tr th {\n",
       "        vertical-align: top;\n",
       "    }\n",
       "\n",
       "    .dataframe thead th {\n",
       "        text-align: right;\n",
       "    }\n",
       "</style>\n",
       "<table border=\"1\" class=\"dataframe\">\n",
       "  <thead>\n",
       "    <tr style=\"text-align: right;\">\n",
       "      <th></th>\n",
       "      <th>headline</th>\n",
       "      <th>Sentiment</th>\n",
       "    </tr>\n",
       "  </thead>\n",
       "  <tbody>\n",
       "    <tr>\n",
       "      <th>0</th>\n",
       "      <td>Tech Stocks And FAANGS Strong Again To Start D...</td>\n",
       "      <td>0.433333</td>\n",
       "    </tr>\n",
       "    <tr>\n",
       "      <th>1</th>\n",
       "      <td>10 Biggest Price Target Changes For Wednesday</td>\n",
       "      <td>0.000000</td>\n",
       "    </tr>\n",
       "    <tr>\n",
       "      <th>2</th>\n",
       "      <td>Benzinga Pro's Top 5 Stocks To Watch For Wed.,...</td>\n",
       "      <td>0.500000</td>\n",
       "    </tr>\n",
       "    <tr>\n",
       "      <th>3</th>\n",
       "      <td>Deutsche Bank Maintains Buy on Apple, Raises P...</td>\n",
       "      <td>0.000000</td>\n",
       "    </tr>\n",
       "    <tr>\n",
       "      <th>4</th>\n",
       "      <td>Apple To Let Users Trade In Their Mac Computer...</td>\n",
       "      <td>0.000000</td>\n",
       "    </tr>\n",
       "    <tr>\n",
       "      <th>5</th>\n",
       "      <td>Big Tech Reaches New Record Heights At The Sto...</td>\n",
       "      <td>0.068182</td>\n",
       "    </tr>\n",
       "    <tr>\n",
       "      <th>6</th>\n",
       "      <td>Why Apple's Stock Is Trading Higher Today</td>\n",
       "      <td>0.250000</td>\n",
       "    </tr>\n",
       "    <tr>\n",
       "      <th>7</th>\n",
       "      <td>Apple Could Announce In-House Chips For Macs A...</td>\n",
       "      <td>0.000000</td>\n",
       "    </tr>\n",
       "    <tr>\n",
       "      <th>8</th>\n",
       "      <td>Apple shares are trading higher despite market...</td>\n",
       "      <td>0.050000</td>\n",
       "    </tr>\n",
       "    <tr>\n",
       "      <th>9</th>\n",
       "      <td>Sonos Shares Spike To Session High, Now Up 9.5...</td>\n",
       "      <td>0.053333</td>\n",
       "    </tr>\n",
       "  </tbody>\n",
       "</table>\n",
       "</div>"
      ],
      "text/plain": [
       "                                            headline  Sentiment\n",
       "0  Tech Stocks And FAANGS Strong Again To Start D...   0.433333\n",
       "1      10 Biggest Price Target Changes For Wednesday   0.000000\n",
       "2  Benzinga Pro's Top 5 Stocks To Watch For Wed.,...   0.500000\n",
       "3  Deutsche Bank Maintains Buy on Apple, Raises P...   0.000000\n",
       "4  Apple To Let Users Trade In Their Mac Computer...   0.000000\n",
       "5  Big Tech Reaches New Record Heights At The Sto...   0.068182\n",
       "6          Why Apple's Stock Is Trading Higher Today   0.250000\n",
       "7  Apple Could Announce In-House Chips For Macs A...   0.000000\n",
       "8  Apple shares are trading higher despite market...   0.050000\n",
       "9  Sonos Shares Spike To Session High, Now Up 9.5...   0.053333"
      ]
     },
     "execution_count": 14,
     "metadata": {},
     "output_type": "execute_result"
    }
   ],
   "source": [
    "# Sentiment analysis\n",
    "analysis.perform_sentiment_analysis()\n",
    "\n",
    "analysis.merged_data[['headline','Sentiment']]"
   ]
  },
  {
   "cell_type": "code",
   "execution_count": 15,
   "id": "4e969978-a79b-42eb-851a-ac39d1f91305",
   "metadata": {},
   "outputs": [],
   "source": [
    "analysis.compute_daily_returns()"
   ]
  },
  {
   "cell_type": "code",
   "execution_count": 16,
   "id": "8ae979df-f098-475e-8335-a38bc86d2798",
   "metadata": {},
   "outputs": [
    {
     "data": {
      "text/plain": [
       "array([        nan,  0.        , -0.02508221])"
      ]
     },
     "execution_count": 16,
     "metadata": {},
     "output_type": "execute_result"
    }
   ],
   "source": [
    "analysis.merged_data['Daily_Return'].unique()"
   ]
  },
  {
   "cell_type": "code",
   "execution_count": 17,
   "id": "7dc10d92-ee5e-4609-b57f-392aae2824d0",
   "metadata": {},
   "outputs": [],
   "source": [
    "# Remove rows with NaN values in either column\n",
    "analysis.merged_data = analysis.merged_data.dropna(subset=['Sentiment', 'Daily_Return'])\n"
   ]
  },
  {
   "cell_type": "code",
   "execution_count": 18,
   "id": "384dba7a-cb8e-4dfd-a62b-023f955ff64f",
   "metadata": {},
   "outputs": [
    {
     "name": "stdout",
     "output_type": "stream",
     "text": [
      "Pearson correlation between sentiment and daily stock returns: nan\n"
     ]
    }
   ],
   "source": [
    "correlation = analysis.compute_correlation()"
   ]
  },
  {
   "cell_type": "code",
   "execution_count": null,
   "id": "62c3be99-5f8b-47e9-9961-7b8b94228eac",
   "metadata": {},
   "outputs": [],
   "source": []
  }
 ],
 "metadata": {
  "kernelspec": {
   "display_name": "Python 3 (ipykernel)",
   "language": "python",
   "name": "python3"
  },
  "language_info": {
   "codemirror_mode": {
    "name": "ipython",
    "version": 3
   },
   "file_extension": ".py",
   "mimetype": "text/x-python",
   "name": "python",
   "nbconvert_exporter": "python",
   "pygments_lexer": "ipython3",
   "version": "3.8.10"
  }
 },
 "nbformat": 4,
 "nbformat_minor": 5
}
