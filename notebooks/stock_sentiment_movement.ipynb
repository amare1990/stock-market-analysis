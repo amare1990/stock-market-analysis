{
 "cells": [
  {
   "cell_type": "code",
   "execution_count": 1,
   "id": "8bfa2ebb-1a42-45c5-ab90-902ea0f31660",
   "metadata": {},
   "outputs": [],
   "source": [
    "import os, sys\n",
    "import pandas as pd\n",
    "cur_dir = os.getcwd()\n",
    "parent_dir = os.path.dirname(cur_dir)\n",
    "sys.path.insert(0, parent_dir)"
   ]
  },
  {
   "cell_type": "code",
   "execution_count": 2,
   "id": "d484dcf2-7f84-4169-b8f3-c222d6999c45",
   "metadata": {},
   "outputs": [],
   "source": [
    "stock_path = \"/home/am//Documents/Software Development/10_Academy Training/week1/Data/yfinance_data/AAPL_historical_data.csv\"\n",
    "news_path = \"/home/am//Documents/Software Development/10_Academy Training/week1/Data/raw_analyst_ratings.csv\""
   ]
  },
  {
   "cell_type": "code",
   "execution_count": 3,
   "id": "5609352e-4678-464b-9374-f49138331aa6",
   "metadata": {},
   "outputs": [],
   "source": [
    "from scripts.correlation_analysis import stock_news_movement_analysis"
   ]
  },
  {
   "cell_type": "code",
   "execution_count": 4,
   "id": "cc81370a-cd96-4f2b-970f-c0db35e955eb",
   "metadata": {},
   "outputs": [],
   "source": [
    "# Initialize the stock_news_analysis object\n",
    "tickers = \"AAPL\"\n",
    "start_date = \"1980-12-12\"\n",
    "end_date = \"2024-07-30\"\n",
    "output_folder = \"./output_sentiment_movement\"\n",
    "\n",
    "analysis = stock_news_movement_analysis(tickers, start_date, end_date, output_folder)"
   ]
  },
  {
   "cell_type": "code",
   "execution_count": 5,
   "id": "b0bef7e3-b267-46c8-bfb6-b7ef5d8da8cd",
   "metadata": {},
   "outputs": [
    {
     "name": "stderr",
     "output_type": "stream",
     "text": [
      "[*********************100%***********************]  1 of 1 completed"
     ]
    },
    {
     "name": "stdout",
     "output_type": "stream",
     "text": [
      "Stock data for AAPL from 1980-12-12 to 2024-07-30 downloaded successfully.\n"
     ]
    },
    {
     "name": "stderr",
     "output_type": "stream",
     "text": [
      "\n"
     ]
    }
   ],
   "source": [
    "analysis.download_stock_data()"
   ]
  },
  {
   "cell_type": "code",
   "execution_count": 6,
   "id": "06b1ad9e-4875-4db9-b0b6-3216275bf409",
   "metadata": {},
   "outputs": [
    {
     "data": {
      "text/plain": [
       "MultiIndex([(     'Date',     ''),\n",
       "            ('Adj Close', 'AAPL'),\n",
       "            (    'Close', 'AAPL'),\n",
       "            (     'High', 'AAPL'),\n",
       "            (      'Low', 'AAPL'),\n",
       "            (     'Open', 'AAPL'),\n",
       "            (   'Volume', 'AAPL')],\n",
       "           names=['Price', 'Ticker'])"
      ]
     },
     "execution_count": 6,
     "metadata": {},
     "output_type": "execute_result"
    }
   ],
   "source": [
    "analysis.stock_data.columns"
   ]
  },
  {
   "cell_type": "code",
   "execution_count": 7,
   "id": "ce91291b-74af-4989-bb5d-71bc1200761e",
   "metadata": {},
   "outputs": [
    {
     "data": {
      "text/html": [
       "<div>\n",
       "<style scoped>\n",
       "    .dataframe tbody tr th:only-of-type {\n",
       "        vertical-align: middle;\n",
       "    }\n",
       "\n",
       "    .dataframe tbody tr th {\n",
       "        vertical-align: top;\n",
       "    }\n",
       "\n",
       "    .dataframe thead tr th {\n",
       "        text-align: left;\n",
       "    }\n",
       "</style>\n",
       "<table border=\"1\" class=\"dataframe\">\n",
       "  <thead>\n",
       "    <tr>\n",
       "      <th>Price</th>\n",
       "      <th>Date</th>\n",
       "      <th>Adj Close</th>\n",
       "      <th>Close</th>\n",
       "      <th>High</th>\n",
       "      <th>Low</th>\n",
       "      <th>Open</th>\n",
       "      <th>Volume</th>\n",
       "    </tr>\n",
       "    <tr>\n",
       "      <th>Ticker</th>\n",
       "      <th></th>\n",
       "      <th>AAPL</th>\n",
       "      <th>AAPL</th>\n",
       "      <th>AAPL</th>\n",
       "      <th>AAPL</th>\n",
       "      <th>AAPL</th>\n",
       "      <th>AAPL</th>\n",
       "    </tr>\n",
       "  </thead>\n",
       "  <tbody>\n",
       "    <tr>\n",
       "      <th>0</th>\n",
       "      <td>1980-12-12</td>\n",
       "      <td>0.098834</td>\n",
       "      <td>0.128348</td>\n",
       "      <td>0.128906</td>\n",
       "      <td>0.128348</td>\n",
       "      <td>0.128348</td>\n",
       "      <td>469033600</td>\n",
       "    </tr>\n",
       "    <tr>\n",
       "      <th>1</th>\n",
       "      <td>1980-12-15</td>\n",
       "      <td>0.093678</td>\n",
       "      <td>0.121652</td>\n",
       "      <td>0.122210</td>\n",
       "      <td>0.121652</td>\n",
       "      <td>0.122210</td>\n",
       "      <td>175884800</td>\n",
       "    </tr>\n",
       "    <tr>\n",
       "      <th>2</th>\n",
       "      <td>1980-12-16</td>\n",
       "      <td>0.086802</td>\n",
       "      <td>0.112723</td>\n",
       "      <td>0.113281</td>\n",
       "      <td>0.112723</td>\n",
       "      <td>0.113281</td>\n",
       "      <td>105728000</td>\n",
       "    </tr>\n",
       "    <tr>\n",
       "      <th>3</th>\n",
       "      <td>1980-12-17</td>\n",
       "      <td>0.088951</td>\n",
       "      <td>0.115513</td>\n",
       "      <td>0.116071</td>\n",
       "      <td>0.115513</td>\n",
       "      <td>0.115513</td>\n",
       "      <td>86441600</td>\n",
       "    </tr>\n",
       "    <tr>\n",
       "      <th>4</th>\n",
       "      <td>1980-12-18</td>\n",
       "      <td>0.091530</td>\n",
       "      <td>0.118862</td>\n",
       "      <td>0.119420</td>\n",
       "      <td>0.118862</td>\n",
       "      <td>0.118862</td>\n",
       "      <td>73449600</td>\n",
       "    </tr>\n",
       "  </tbody>\n",
       "</table>\n",
       "</div>"
      ],
      "text/plain": [
       "Price        Date Adj Close     Close      High       Low      Open     Volume\n",
       "Ticker                 AAPL      AAPL      AAPL      AAPL      AAPL       AAPL\n",
       "0      1980-12-12  0.098834  0.128348  0.128906  0.128348  0.128348  469033600\n",
       "1      1980-12-15  0.093678  0.121652  0.122210  0.121652  0.122210  175884800\n",
       "2      1980-12-16  0.086802  0.112723  0.113281  0.112723  0.113281  105728000\n",
       "3      1980-12-17  0.088951  0.115513  0.116071  0.115513  0.115513   86441600\n",
       "4      1980-12-18  0.091530  0.118862  0.119420  0.118862  0.118862   73449600"
      ]
     },
     "execution_count": 7,
     "metadata": {},
     "output_type": "execute_result"
    }
   ],
   "source": [
    "analysis.stock_data.head()"
   ]
  },
  {
   "cell_type": "code",
   "execution_count": 8,
   "id": "80265310-3f0c-4918-ba88-4db60770e616",
   "metadata": {},
   "outputs": [
    {
     "name": "stdout",
     "output_type": "stream",
     "text": [
      "News data loaded successfully.\n"
     ]
    }
   ],
   "source": [
    "analysis.load_news_data(news_path)"
   ]
  },
  {
   "cell_type": "code",
   "execution_count": 9,
   "id": "d6e8d12b-5130-41ad-a1b9-e722cd304d1d",
   "metadata": {},
   "outputs": [
    {
     "data": {
      "text/plain": [
       "Index(['Unnamed: 0', 'headline', 'url', 'publisher', 'Date', 'stock'], dtype='object')"
      ]
     },
     "execution_count": 9,
     "metadata": {},
     "output_type": "execute_result"
    }
   ],
   "source": [
    "analysis.news_data.columns"
   ]
  },
  {
   "cell_type": "code",
   "execution_count": 10,
   "id": "23267da0-ef71-4042-afe2-549f777caa14",
   "metadata": {},
   "outputs": [
    {
     "data": {
      "text/html": [
       "<div>\n",
       "<style scoped>\n",
       "    .dataframe tbody tr th:only-of-type {\n",
       "        vertical-align: middle;\n",
       "    }\n",
       "\n",
       "    .dataframe tbody tr th {\n",
       "        vertical-align: top;\n",
       "    }\n",
       "\n",
       "    .dataframe thead th {\n",
       "        text-align: right;\n",
       "    }\n",
       "</style>\n",
       "<table border=\"1\" class=\"dataframe\">\n",
       "  <thead>\n",
       "    <tr style=\"text-align: right;\">\n",
       "      <th></th>\n",
       "      <th>Unnamed: 0</th>\n",
       "      <th>headline</th>\n",
       "      <th>url</th>\n",
       "      <th>publisher</th>\n",
       "      <th>Date</th>\n",
       "      <th>stock</th>\n",
       "    </tr>\n",
       "  </thead>\n",
       "  <tbody>\n",
       "    <tr>\n",
       "      <th>0</th>\n",
       "      <td>0</td>\n",
       "      <td>Stocks That Hit 52-Week Highs On Friday</td>\n",
       "      <td>https://www.benzinga.com/news/20/06/16190091/s...</td>\n",
       "      <td>Benzinga Insights</td>\n",
       "      <td>2020-06-05 10:30:54-04:00</td>\n",
       "      <td>A</td>\n",
       "    </tr>\n",
       "    <tr>\n",
       "      <th>1</th>\n",
       "      <td>1</td>\n",
       "      <td>Stocks That Hit 52-Week Highs On Wednesday</td>\n",
       "      <td>https://www.benzinga.com/news/20/06/16170189/s...</td>\n",
       "      <td>Benzinga Insights</td>\n",
       "      <td>2020-06-03 10:45:20-04:00</td>\n",
       "      <td>A</td>\n",
       "    </tr>\n",
       "    <tr>\n",
       "      <th>2</th>\n",
       "      <td>2</td>\n",
       "      <td>71 Biggest Movers From Friday</td>\n",
       "      <td>https://www.benzinga.com/news/20/05/16103463/7...</td>\n",
       "      <td>Lisa Levin</td>\n",
       "      <td>2020-05-26 04:30:07-04:00</td>\n",
       "      <td>A</td>\n",
       "    </tr>\n",
       "    <tr>\n",
       "      <th>3</th>\n",
       "      <td>3</td>\n",
       "      <td>46 Stocks Moving In Friday's Mid-Day Session</td>\n",
       "      <td>https://www.benzinga.com/news/20/05/16095921/4...</td>\n",
       "      <td>Lisa Levin</td>\n",
       "      <td>2020-05-22 12:45:06-04:00</td>\n",
       "      <td>A</td>\n",
       "    </tr>\n",
       "    <tr>\n",
       "      <th>4</th>\n",
       "      <td>4</td>\n",
       "      <td>B of A Securities Maintains Neutral on Agilent...</td>\n",
       "      <td>https://www.benzinga.com/news/20/05/16095304/b...</td>\n",
       "      <td>Vick Meyer</td>\n",
       "      <td>2020-05-22 11:38:59-04:00</td>\n",
       "      <td>A</td>\n",
       "    </tr>\n",
       "  </tbody>\n",
       "</table>\n",
       "</div>"
      ],
      "text/plain": [
       "   Unnamed: 0                                           headline  \\\n",
       "0           0            Stocks That Hit 52-Week Highs On Friday   \n",
       "1           1         Stocks That Hit 52-Week Highs On Wednesday   \n",
       "2           2                      71 Biggest Movers From Friday   \n",
       "3           3       46 Stocks Moving In Friday's Mid-Day Session   \n",
       "4           4  B of A Securities Maintains Neutral on Agilent...   \n",
       "\n",
       "                                                 url          publisher  \\\n",
       "0  https://www.benzinga.com/news/20/06/16190091/s...  Benzinga Insights   \n",
       "1  https://www.benzinga.com/news/20/06/16170189/s...  Benzinga Insights   \n",
       "2  https://www.benzinga.com/news/20/05/16103463/7...         Lisa Levin   \n",
       "3  https://www.benzinga.com/news/20/05/16095921/4...         Lisa Levin   \n",
       "4  https://www.benzinga.com/news/20/05/16095304/b...         Vick Meyer   \n",
       "\n",
       "                        Date stock  \n",
       "0  2020-06-05 10:30:54-04:00     A  \n",
       "1  2020-06-03 10:45:20-04:00     A  \n",
       "2  2020-05-26 04:30:07-04:00     A  \n",
       "3  2020-05-22 12:45:06-04:00     A  \n",
       "4  2020-05-22 11:38:59-04:00     A  "
      ]
     },
     "execution_count": 10,
     "metadata": {},
     "output_type": "execute_result"
    }
   ],
   "source": [
    "analysis.news_data.head()"
   ]
  },
  {
   "cell_type": "code",
   "execution_count": 11,
   "id": "81727e32-897f-48b4-ab9d-ff08548afc35",
   "metadata": {},
   "outputs": [
    {
     "data": {
      "text/plain": [
       "MultiIndex([(     'Date',     ''),\n",
       "            ('Adj Close', 'AAPL'),\n",
       "            (    'Close', 'AAPL'),\n",
       "            (     'High', 'AAPL'),\n",
       "            (      'Low', 'AAPL'),\n",
       "            (     'Open', 'AAPL'),\n",
       "            (   'Volume', 'AAPL')],\n",
       "           names=['Price', 'Ticker'])"
      ]
     },
     "execution_count": 11,
     "metadata": {},
     "output_type": "execute_result"
    }
   ],
   "source": [
    "analysis.stock_data.columns"
   ]
  },
  {
   "cell_type": "code",
   "execution_count": 12,
   "id": "a8c2ee52-3c9b-4b2a-a98d-05cc7e8e8c50",
   "metadata": {},
   "outputs": [
    {
     "data": {
      "text/plain": [
       "MultiIndex([(     'Date',     ''),\n",
       "            ('Adj Close', 'AAPL'),\n",
       "            (    'Close', 'AAPL'),\n",
       "            (     'High', 'AAPL'),\n",
       "            (      'Low', 'AAPL'),\n",
       "            (     'Open', 'AAPL'),\n",
       "            (   'Volume', 'AAPL')],\n",
       "           names=['Price', 'Ticker'])"
      ]
     },
     "execution_count": 12,
     "metadata": {},
     "output_type": "execute_result"
    }
   ],
   "source": [
    "analysis.stock_data.columns"
   ]
  },
  {
   "cell_type": "code",
   "execution_count": 13,
   "id": "7a5881ef-ad87-4293-868f-17508e92a9e3",
   "metadata": {},
   "outputs": [
    {
     "name": "stdout",
     "output_type": "stream",
     "text": [
      "Data cleaning completed. Stock and news data are ready for analysis.\n"
     ]
    }
   ],
   "source": [
    "analysis.clean_data()"
   ]
  },
  {
   "cell_type": "code",
   "execution_count": 14,
   "id": "452ec523-184b-4b6c-ba63-4e51e700009a",
   "metadata": {},
   "outputs": [
    {
     "data": {
      "text/plain": [
       "Index(['Date', 'Adj Close', 'Close', 'High', 'Low', 'Open', 'Volume'], dtype='object')"
      ]
     },
     "execution_count": 14,
     "metadata": {},
     "output_type": "execute_result"
    }
   ],
   "source": [
    "analysis.stock_data.columns"
   ]
  },
  {
   "cell_type": "code",
   "execution_count": 15,
   "id": "2ff58938-9587-487d-a3ea-1986fde72efb",
   "metadata": {},
   "outputs": [
    {
     "data": {
      "text/plain": [
       "Index(['headline', 'url', 'publisher', 'Date', 'stock'], dtype='object')"
      ]
     },
     "execution_count": 15,
     "metadata": {},
     "output_type": "execute_result"
    }
   ],
   "source": [
    "analysis.news_data.columns"
   ]
  },
  {
   "cell_type": "code",
   "execution_count": 16,
   "id": "e9115ffc-92af-4072-bf99-04cc3560504f",
   "metadata": {},
   "outputs": [
    {
     "data": {
      "text/html": [
       "<div>\n",
       "<style scoped>\n",
       "    .dataframe tbody tr th:only-of-type {\n",
       "        vertical-align: middle;\n",
       "    }\n",
       "\n",
       "    .dataframe tbody tr th {\n",
       "        vertical-align: top;\n",
       "    }\n",
       "\n",
       "    .dataframe thead th {\n",
       "        text-align: right;\n",
       "    }\n",
       "</style>\n",
       "<table border=\"1\" class=\"dataframe\">\n",
       "  <thead>\n",
       "    <tr style=\"text-align: right;\">\n",
       "      <th></th>\n",
       "      <th>Date</th>\n",
       "      <th>Adj Close</th>\n",
       "      <th>Close</th>\n",
       "      <th>High</th>\n",
       "      <th>Low</th>\n",
       "      <th>Open</th>\n",
       "      <th>Volume</th>\n",
       "    </tr>\n",
       "  </thead>\n",
       "  <tbody>\n",
       "    <tr>\n",
       "      <th>0</th>\n",
       "      <td>1980-12-12</td>\n",
       "      <td>0.098834</td>\n",
       "      <td>0.128348</td>\n",
       "      <td>0.128906</td>\n",
       "      <td>0.128348</td>\n",
       "      <td>0.128348</td>\n",
       "      <td>469033600</td>\n",
       "    </tr>\n",
       "    <tr>\n",
       "      <th>1</th>\n",
       "      <td>1980-12-15</td>\n",
       "      <td>0.093678</td>\n",
       "      <td>0.121652</td>\n",
       "      <td>0.122210</td>\n",
       "      <td>0.121652</td>\n",
       "      <td>0.122210</td>\n",
       "      <td>175884800</td>\n",
       "    </tr>\n",
       "    <tr>\n",
       "      <th>2</th>\n",
       "      <td>1980-12-16</td>\n",
       "      <td>0.086802</td>\n",
       "      <td>0.112723</td>\n",
       "      <td>0.113281</td>\n",
       "      <td>0.112723</td>\n",
       "      <td>0.113281</td>\n",
       "      <td>105728000</td>\n",
       "    </tr>\n",
       "    <tr>\n",
       "      <th>3</th>\n",
       "      <td>1980-12-17</td>\n",
       "      <td>0.088951</td>\n",
       "      <td>0.115513</td>\n",
       "      <td>0.116071</td>\n",
       "      <td>0.115513</td>\n",
       "      <td>0.115513</td>\n",
       "      <td>86441600</td>\n",
       "    </tr>\n",
       "    <tr>\n",
       "      <th>4</th>\n",
       "      <td>1980-12-18</td>\n",
       "      <td>0.091530</td>\n",
       "      <td>0.118862</td>\n",
       "      <td>0.119420</td>\n",
       "      <td>0.118862</td>\n",
       "      <td>0.118862</td>\n",
       "      <td>73449600</td>\n",
       "    </tr>\n",
       "  </tbody>\n",
       "</table>\n",
       "</div>"
      ],
      "text/plain": [
       "        Date  Adj Close     Close      High       Low      Open     Volume\n",
       "0 1980-12-12   0.098834  0.128348  0.128906  0.128348  0.128348  469033600\n",
       "1 1980-12-15   0.093678  0.121652  0.122210  0.121652  0.122210  175884800\n",
       "2 1980-12-16   0.086802  0.112723  0.113281  0.112723  0.113281  105728000\n",
       "3 1980-12-17   0.088951  0.115513  0.116071  0.115513  0.115513   86441600\n",
       "4 1980-12-18   0.091530  0.118862  0.119420  0.118862  0.118862   73449600"
      ]
     },
     "execution_count": 16,
     "metadata": {},
     "output_type": "execute_result"
    }
   ],
   "source": [
    "analysis.stock_data.head()"
   ]
  },
  {
   "cell_type": "code",
   "execution_count": 17,
   "id": "5405057c-9f74-477e-8bcb-3d2079db9474",
   "metadata": {},
   "outputs": [
    {
     "data": {
      "text/plain": [
       "Index(['Date', 'Adj Close', 'Close', 'High', 'Low', 'Open', 'Volume'], dtype='object')"
      ]
     },
     "execution_count": 17,
     "metadata": {},
     "output_type": "execute_result"
    }
   ],
   "source": [
    "analysis.stock_data.columns\n"
   ]
  },
  {
   "cell_type": "code",
   "execution_count": 18,
   "id": "809a9a21-f626-443d-be19-3b1157aac044",
   "metadata": {},
   "outputs": [],
   "source": [
    "if 'Date' not in analysis.stock_data.columns:\n",
    "    raise KeyError(\"The 'Date' column is missing after setting headers. Check the data structure.\")\n"
   ]
  },
  {
   "cell_type": "code",
   "execution_count": 19,
   "id": "cfe754f3-d0a5-45b6-b09e-721d33c93827",
   "metadata": {},
   "outputs": [
    {
     "data": {
      "text/html": [
       "<div>\n",
       "<style scoped>\n",
       "    .dataframe tbody tr th:only-of-type {\n",
       "        vertical-align: middle;\n",
       "    }\n",
       "\n",
       "    .dataframe tbody tr th {\n",
       "        vertical-align: top;\n",
       "    }\n",
       "\n",
       "    .dataframe thead th {\n",
       "        text-align: right;\n",
       "    }\n",
       "</style>\n",
       "<table border=\"1\" class=\"dataframe\">\n",
       "  <thead>\n",
       "    <tr style=\"text-align: right;\">\n",
       "      <th></th>\n",
       "      <th>headline</th>\n",
       "      <th>url</th>\n",
       "      <th>publisher</th>\n",
       "      <th>Date</th>\n",
       "      <th>stock</th>\n",
       "    </tr>\n",
       "  </thead>\n",
       "  <tbody>\n",
       "    <tr>\n",
       "      <th>0</th>\n",
       "      <td>Stocks That Hit 52-Week Highs On Friday</td>\n",
       "      <td>https://www.benzinga.com/news/20/06/16190091/s...</td>\n",
       "      <td>Benzinga Insights</td>\n",
       "      <td>2020-06-05 10:30:54-04:00</td>\n",
       "      <td>A</td>\n",
       "    </tr>\n",
       "    <tr>\n",
       "      <th>1</th>\n",
       "      <td>Stocks That Hit 52-Week Highs On Wednesday</td>\n",
       "      <td>https://www.benzinga.com/news/20/06/16170189/s...</td>\n",
       "      <td>Benzinga Insights</td>\n",
       "      <td>2020-06-03 10:45:20-04:00</td>\n",
       "      <td>A</td>\n",
       "    </tr>\n",
       "    <tr>\n",
       "      <th>2</th>\n",
       "      <td>71 Biggest Movers From Friday</td>\n",
       "      <td>https://www.benzinga.com/news/20/05/16103463/7...</td>\n",
       "      <td>Lisa Levin</td>\n",
       "      <td>2020-05-26 04:30:07-04:00</td>\n",
       "      <td>A</td>\n",
       "    </tr>\n",
       "    <tr>\n",
       "      <th>3</th>\n",
       "      <td>46 Stocks Moving In Friday's Mid-Day Session</td>\n",
       "      <td>https://www.benzinga.com/news/20/05/16095921/4...</td>\n",
       "      <td>Lisa Levin</td>\n",
       "      <td>2020-05-22 12:45:06-04:00</td>\n",
       "      <td>A</td>\n",
       "    </tr>\n",
       "    <tr>\n",
       "      <th>4</th>\n",
       "      <td>B of A Securities Maintains Neutral on Agilent...</td>\n",
       "      <td>https://www.benzinga.com/news/20/05/16095304/b...</td>\n",
       "      <td>Vick Meyer</td>\n",
       "      <td>2020-05-22 11:38:59-04:00</td>\n",
       "      <td>A</td>\n",
       "    </tr>\n",
       "  </tbody>\n",
       "</table>\n",
       "</div>"
      ],
      "text/plain": [
       "                                            headline  \\\n",
       "0            Stocks That Hit 52-Week Highs On Friday   \n",
       "1         Stocks That Hit 52-Week Highs On Wednesday   \n",
       "2                      71 Biggest Movers From Friday   \n",
       "3       46 Stocks Moving In Friday's Mid-Day Session   \n",
       "4  B of A Securities Maintains Neutral on Agilent...   \n",
       "\n",
       "                                                 url          publisher  \\\n",
       "0  https://www.benzinga.com/news/20/06/16190091/s...  Benzinga Insights   \n",
       "1  https://www.benzinga.com/news/20/06/16170189/s...  Benzinga Insights   \n",
       "2  https://www.benzinga.com/news/20/05/16103463/7...         Lisa Levin   \n",
       "3  https://www.benzinga.com/news/20/05/16095921/4...         Lisa Levin   \n",
       "4  https://www.benzinga.com/news/20/05/16095304/b...         Vick Meyer   \n",
       "\n",
       "                       Date stock  \n",
       "0 2020-06-05 10:30:54-04:00     A  \n",
       "1 2020-06-03 10:45:20-04:00     A  \n",
       "2 2020-05-26 04:30:07-04:00     A  \n",
       "3 2020-05-22 12:45:06-04:00     A  \n",
       "4 2020-05-22 11:38:59-04:00     A  "
      ]
     },
     "execution_count": 19,
     "metadata": {},
     "output_type": "execute_result"
    }
   ],
   "source": [
    "analysis.news_data.head()"
   ]
  },
  {
   "cell_type": "code",
   "execution_count": 20,
   "id": "20b72ee5-5e12-4634-ab38-22345ee5e6d5",
   "metadata": {},
   "outputs": [
    {
     "name": "stdout",
     "output_type": "stream",
     "text": [
      "datetime64[ns, UTC-04:00]\n"
     ]
    }
   ],
   "source": [
    "print(analysis.news_data['Date'].dtype)"
   ]
  },
  {
   "cell_type": "code",
   "execution_count": 21,
   "id": "bbd730d0-54b0-493f-be1f-c567d344f094",
   "metadata": {},
   "outputs": [
    {
     "name": "stdout",
     "output_type": "stream",
     "text": [
      "datetime64[ns]\n"
     ]
    }
   ],
   "source": [
    "print(analysis.stock_data['Date'].dtype)"
   ]
  },
  {
   "cell_type": "code",
   "execution_count": 22,
   "id": "47664d30-8156-4f11-8add-d77c9247fa32",
   "metadata": {},
   "outputs": [
    {
     "name": "stdout",
     "output_type": "stream",
     "text": [
      "Merged data contains 172 rows.\n"
     ]
    }
   ],
   "source": [
    "analysis.merge_data()"
   ]
  },
  {
   "cell_type": "code",
   "execution_count": 23,
   "id": "5f83a8db-0d4d-4bac-8ec5-59917f9be533",
   "metadata": {},
   "outputs": [
    {
     "data": {
      "text/plain": [
       "Index(['headline', 'url', 'publisher', 'Date', 'stock', 'Adj Close', 'Close',\n",
       "       'High', 'Low', 'Open', 'Volume'],\n",
       "      dtype='object')"
      ]
     },
     "execution_count": 23,
     "metadata": {},
     "output_type": "execute_result"
    }
   ],
   "source": [
    "analysis.merged_data.columns"
   ]
  },
  {
   "cell_type": "code",
   "execution_count": 24,
   "id": "91cbe9f4-8031-4d40-95fe-0d9da6d9ab75",
   "metadata": {},
   "outputs": [
    {
     "data": {
      "text/html": [
       "<div>\n",
       "<style scoped>\n",
       "    .dataframe tbody tr th:only-of-type {\n",
       "        vertical-align: middle;\n",
       "    }\n",
       "\n",
       "    .dataframe tbody tr th {\n",
       "        vertical-align: top;\n",
       "    }\n",
       "\n",
       "    .dataframe thead th {\n",
       "        text-align: right;\n",
       "    }\n",
       "</style>\n",
       "<table border=\"1\" class=\"dataframe\">\n",
       "  <thead>\n",
       "    <tr style=\"text-align: right;\">\n",
       "      <th></th>\n",
       "      <th>headline</th>\n",
       "      <th>url</th>\n",
       "      <th>publisher</th>\n",
       "      <th>Date</th>\n",
       "      <th>stock</th>\n",
       "      <th>Adj Close</th>\n",
       "      <th>Close</th>\n",
       "      <th>High</th>\n",
       "      <th>Low</th>\n",
       "      <th>Open</th>\n",
       "      <th>Volume</th>\n",
       "    </tr>\n",
       "  </thead>\n",
       "  <tbody>\n",
       "    <tr>\n",
       "      <th>0</th>\n",
       "      <td>Stocks That Hit 52-Week Highs On Friday</td>\n",
       "      <td>https://www.benzinga.com/news/20/06/16190091/s...</td>\n",
       "      <td>Benzinga Insights</td>\n",
       "      <td>2020-06-05</td>\n",
       "      <td>A</td>\n",
       "      <td>80.754562</td>\n",
       "      <td>82.875</td>\n",
       "      <td>82.9375</td>\n",
       "      <td>80.807503</td>\n",
       "      <td>80.837502</td>\n",
       "      <td>137250400</td>\n",
       "    </tr>\n",
       "    <tr>\n",
       "      <th>1</th>\n",
       "      <td>Stocks That Hit 52-Week Highs On Friday</td>\n",
       "      <td>https://www.benzinga.com/news/20/06/16190091/s...</td>\n",
       "      <td>Benzinga Insights</td>\n",
       "      <td>2020-06-05</td>\n",
       "      <td>AAWW</td>\n",
       "      <td>80.754562</td>\n",
       "      <td>82.875</td>\n",
       "      <td>82.9375</td>\n",
       "      <td>80.807503</td>\n",
       "      <td>80.837502</td>\n",
       "      <td>137250400</td>\n",
       "    </tr>\n",
       "    <tr>\n",
       "      <th>2</th>\n",
       "      <td>Stocks That Hit 52-Week Highs On Friday</td>\n",
       "      <td>https://www.benzinga.com/news/20/06/16190091/s...</td>\n",
       "      <td>Benzinga Insights</td>\n",
       "      <td>2020-06-05</td>\n",
       "      <td>ABC</td>\n",
       "      <td>80.754562</td>\n",
       "      <td>82.875</td>\n",
       "      <td>82.9375</td>\n",
       "      <td>80.807503</td>\n",
       "      <td>80.837502</td>\n",
       "      <td>137250400</td>\n",
       "    </tr>\n",
       "    <tr>\n",
       "      <th>3</th>\n",
       "      <td>Stocks That Hit 52-Week Highs On Friday</td>\n",
       "      <td>https://www.benzinga.com/news/20/06/16190091/s...</td>\n",
       "      <td>Benzinga Insights</td>\n",
       "      <td>2020-06-05</td>\n",
       "      <td>ACTG</td>\n",
       "      <td>80.754562</td>\n",
       "      <td>82.875</td>\n",
       "      <td>82.9375</td>\n",
       "      <td>80.807503</td>\n",
       "      <td>80.837502</td>\n",
       "      <td>137250400</td>\n",
       "    </tr>\n",
       "    <tr>\n",
       "      <th>4</th>\n",
       "      <td>Stocks That Hit 52-Week Highs On Friday</td>\n",
       "      <td>https://www.benzinga.com/news/20/06/16190091/s...</td>\n",
       "      <td>Benzinga Insights</td>\n",
       "      <td>2020-06-05</td>\n",
       "      <td>ADI</td>\n",
       "      <td>80.754562</td>\n",
       "      <td>82.875</td>\n",
       "      <td>82.9375</td>\n",
       "      <td>80.807503</td>\n",
       "      <td>80.837502</td>\n",
       "      <td>137250400</td>\n",
       "    </tr>\n",
       "  </tbody>\n",
       "</table>\n",
       "</div>"
      ],
      "text/plain": [
       "                                  headline  \\\n",
       "0  Stocks That Hit 52-Week Highs On Friday   \n",
       "1  Stocks That Hit 52-Week Highs On Friday   \n",
       "2  Stocks That Hit 52-Week Highs On Friday   \n",
       "3  Stocks That Hit 52-Week Highs On Friday   \n",
       "4  Stocks That Hit 52-Week Highs On Friday   \n",
       "\n",
       "                                                 url          publisher  \\\n",
       "0  https://www.benzinga.com/news/20/06/16190091/s...  Benzinga Insights   \n",
       "1  https://www.benzinga.com/news/20/06/16190091/s...  Benzinga Insights   \n",
       "2  https://www.benzinga.com/news/20/06/16190091/s...  Benzinga Insights   \n",
       "3  https://www.benzinga.com/news/20/06/16190091/s...  Benzinga Insights   \n",
       "4  https://www.benzinga.com/news/20/06/16190091/s...  Benzinga Insights   \n",
       "\n",
       "         Date stock  Adj Close   Close     High        Low       Open  \\\n",
       "0  2020-06-05     A  80.754562  82.875  82.9375  80.807503  80.837502   \n",
       "1  2020-06-05  AAWW  80.754562  82.875  82.9375  80.807503  80.837502   \n",
       "2  2020-06-05   ABC  80.754562  82.875  82.9375  80.807503  80.837502   \n",
       "3  2020-06-05  ACTG  80.754562  82.875  82.9375  80.807503  80.837502   \n",
       "4  2020-06-05   ADI  80.754562  82.875  82.9375  80.807503  80.837502   \n",
       "\n",
       "      Volume  \n",
       "0  137250400  \n",
       "1  137250400  \n",
       "2  137250400  \n",
       "3  137250400  \n",
       "4  137250400  "
      ]
     },
     "execution_count": 24,
     "metadata": {},
     "output_type": "execute_result"
    }
   ],
   "source": [
    "analysis.merged_data.head()"
   ]
  },
  {
   "cell_type": "code",
   "execution_count": 25,
   "id": "6ad0a705-18c7-4120-9473-8c08c3e3398d",
   "metadata": {},
   "outputs": [
    {
     "name": "stdout",
     "output_type": "stream",
     "text": [
      "Merged data saved to ./output_sentiment_movement/merged_stock_news_data.csv.\n"
     ]
    }
   ],
   "source": [
    "analysis.save_data()"
   ]
  },
  {
   "cell_type": "code",
   "execution_count": 26,
   "id": "3e93d1f1-2250-454e-9d29-05f39afd96f0",
   "metadata": {},
   "outputs": [
    {
     "data": {
      "text/plain": [
       "Index(['headline', 'url', 'publisher', 'Date', 'stock', 'Adj Close', 'Close',\n",
       "       'High', 'Low', 'Open', 'Volume'],\n",
       "      dtype='object')"
      ]
     },
     "execution_count": 26,
     "metadata": {},
     "output_type": "execute_result"
    }
   ],
   "source": [
    "analysis.merged_data.columns"
   ]
  },
  {
   "cell_type": "code",
   "execution_count": 27,
   "id": "8f9452da-88e1-452a-82e9-32c233d857ea",
   "metadata": {},
   "outputs": [
    {
     "data": {
      "text/plain": [
       "array([0.  , 0.25])"
      ]
     },
     "execution_count": 27,
     "metadata": {},
     "output_type": "execute_result"
    }
   ],
   "source": [
    "analysis.perform_sentiment_analysis()\n",
    "analysis.merged_data['Sentiment'].unique()"
   ]
  },
  {
   "cell_type": "code",
   "execution_count": 28,
   "id": "75a53362-5c69-4561-a69d-a145ae468a54",
   "metadata": {},
   "outputs": [
    {
     "data": {
      "text/plain": [
       "Sentiment\n",
       "0.00    171\n",
       "0.25      1\n",
       "Name: count, dtype: int64"
      ]
     },
     "execution_count": 28,
     "metadata": {},
     "output_type": "execute_result"
    }
   ],
   "source": [
    "analysis.merged_data['Sentiment'].value_counts()"
   ]
  },
  {
   "cell_type": "code",
   "execution_count": 29,
   "id": "0fc3df2b-0a3c-43f1-b556-1aa558c5b186",
   "metadata": {},
   "outputs": [
    {
     "data": {
      "text/html": [
       "<div>\n",
       "<style scoped>\n",
       "    .dataframe tbody tr th:only-of-type {\n",
       "        vertical-align: middle;\n",
       "    }\n",
       "\n",
       "    .dataframe tbody tr th {\n",
       "        vertical-align: top;\n",
       "    }\n",
       "\n",
       "    .dataframe thead th {\n",
       "        text-align: right;\n",
       "    }\n",
       "</style>\n",
       "<table border=\"1\" class=\"dataframe\">\n",
       "  <thead>\n",
       "    <tr style=\"text-align: right;\">\n",
       "      <th></th>\n",
       "      <th>headline</th>\n",
       "      <th>url</th>\n",
       "      <th>publisher</th>\n",
       "      <th>Date</th>\n",
       "      <th>stock</th>\n",
       "      <th>Adj Close</th>\n",
       "      <th>Close</th>\n",
       "      <th>High</th>\n",
       "      <th>Low</th>\n",
       "      <th>Open</th>\n",
       "      <th>Volume</th>\n",
       "      <th>Sentiment</th>\n",
       "    </tr>\n",
       "  </thead>\n",
       "  <tbody>\n",
       "    <tr>\n",
       "      <th>0</th>\n",
       "      <td>Stocks That Hit 52-Week Highs On Friday</td>\n",
       "      <td>https://www.benzinga.com/news/20/06/16190091/s...</td>\n",
       "      <td>Benzinga Insights</td>\n",
       "      <td>2020-06-05</td>\n",
       "      <td>A</td>\n",
       "      <td>80.754562</td>\n",
       "      <td>82.875000</td>\n",
       "      <td>82.937500</td>\n",
       "      <td>80.807503</td>\n",
       "      <td>80.837502</td>\n",
       "      <td>137250400</td>\n",
       "      <td>0.0</td>\n",
       "    </tr>\n",
       "    <tr>\n",
       "      <th>1</th>\n",
       "      <td>Stocks That Hit 52-Week Highs On Friday</td>\n",
       "      <td>https://www.benzinga.com/news/20/06/16190091/s...</td>\n",
       "      <td>Benzinga Insights</td>\n",
       "      <td>2020-06-05</td>\n",
       "      <td>AAWW</td>\n",
       "      <td>80.754562</td>\n",
       "      <td>82.875000</td>\n",
       "      <td>82.937500</td>\n",
       "      <td>80.807503</td>\n",
       "      <td>80.837502</td>\n",
       "      <td>137250400</td>\n",
       "      <td>0.0</td>\n",
       "    </tr>\n",
       "    <tr>\n",
       "      <th>2</th>\n",
       "      <td>Stocks That Hit 52-Week Highs On Friday</td>\n",
       "      <td>https://www.benzinga.com/news/20/06/16190091/s...</td>\n",
       "      <td>Benzinga Insights</td>\n",
       "      <td>2020-06-05</td>\n",
       "      <td>ABC</td>\n",
       "      <td>80.754562</td>\n",
       "      <td>82.875000</td>\n",
       "      <td>82.937500</td>\n",
       "      <td>80.807503</td>\n",
       "      <td>80.837502</td>\n",
       "      <td>137250400</td>\n",
       "      <td>0.0</td>\n",
       "    </tr>\n",
       "    <tr>\n",
       "      <th>3</th>\n",
       "      <td>Stocks That Hit 52-Week Highs On Friday</td>\n",
       "      <td>https://www.benzinga.com/news/20/06/16190091/s...</td>\n",
       "      <td>Benzinga Insights</td>\n",
       "      <td>2020-06-05</td>\n",
       "      <td>ACTG</td>\n",
       "      <td>80.754562</td>\n",
       "      <td>82.875000</td>\n",
       "      <td>82.937500</td>\n",
       "      <td>80.807503</td>\n",
       "      <td>80.837502</td>\n",
       "      <td>137250400</td>\n",
       "      <td>0.0</td>\n",
       "    </tr>\n",
       "    <tr>\n",
       "      <th>4</th>\n",
       "      <td>Stocks That Hit 52-Week Highs On Friday</td>\n",
       "      <td>https://www.benzinga.com/news/20/06/16190091/s...</td>\n",
       "      <td>Benzinga Insights</td>\n",
       "      <td>2020-06-05</td>\n",
       "      <td>ADI</td>\n",
       "      <td>80.754562</td>\n",
       "      <td>82.875000</td>\n",
       "      <td>82.937500</td>\n",
       "      <td>80.807503</td>\n",
       "      <td>80.837502</td>\n",
       "      <td>137250400</td>\n",
       "      <td>0.0</td>\n",
       "    </tr>\n",
       "    <tr>\n",
       "      <th>...</th>\n",
       "      <td>...</td>\n",
       "      <td>...</td>\n",
       "      <td>...</td>\n",
       "      <td>...</td>\n",
       "      <td>...</td>\n",
       "      <td>...</td>\n",
       "      <td>...</td>\n",
       "      <td>...</td>\n",
       "      <td>...</td>\n",
       "      <td>...</td>\n",
       "      <td>...</td>\n",
       "      <td>...</td>\n",
       "    </tr>\n",
       "    <tr>\n",
       "      <th>167</th>\n",
       "      <td>46 Stocks Moving In Friday's Mid-Day Session</td>\n",
       "      <td>https://www.benzinga.com/news/20/05/16095921/4...</td>\n",
       "      <td>Lisa Levin</td>\n",
       "      <td>2020-05-22</td>\n",
       "      <td>RENN</td>\n",
       "      <td>77.682709</td>\n",
       "      <td>79.722504</td>\n",
       "      <td>79.807503</td>\n",
       "      <td>78.837502</td>\n",
       "      <td>78.942497</td>\n",
       "      <td>81803200</td>\n",
       "      <td>0.0</td>\n",
       "    </tr>\n",
       "    <tr>\n",
       "      <th>168</th>\n",
       "      <td>46 Stocks Moving In Friday's Mid-Day Session</td>\n",
       "      <td>https://www.benzinga.com/news/20/05/16095921/4...</td>\n",
       "      <td>Lisa Levin</td>\n",
       "      <td>2020-05-22</td>\n",
       "      <td>SEAC</td>\n",
       "      <td>77.682709</td>\n",
       "      <td>79.722504</td>\n",
       "      <td>79.807503</td>\n",
       "      <td>78.837502</td>\n",
       "      <td>78.942497</td>\n",
       "      <td>81803200</td>\n",
       "      <td>0.0</td>\n",
       "    </tr>\n",
       "    <tr>\n",
       "      <th>169</th>\n",
       "      <td>46 Stocks Moving In Friday's Mid-Day Session</td>\n",
       "      <td>https://www.benzinga.com/news/20/05/16095921/4...</td>\n",
       "      <td>Lisa Levin</td>\n",
       "      <td>2020-05-22</td>\n",
       "      <td>SPLK</td>\n",
       "      <td>77.682709</td>\n",
       "      <td>79.722504</td>\n",
       "      <td>79.807503</td>\n",
       "      <td>78.837502</td>\n",
       "      <td>78.942497</td>\n",
       "      <td>81803200</td>\n",
       "      <td>0.0</td>\n",
       "    </tr>\n",
       "    <tr>\n",
       "      <th>170</th>\n",
       "      <td>46 Stocks Moving In Friday's Mid-Day Session</td>\n",
       "      <td>https://www.benzinga.com/news/20/05/16095921/4...</td>\n",
       "      <td>Lisa Levin</td>\n",
       "      <td>2020-05-22</td>\n",
       "      <td>TTOO</td>\n",
       "      <td>77.682709</td>\n",
       "      <td>79.722504</td>\n",
       "      <td>79.807503</td>\n",
       "      <td>78.837502</td>\n",
       "      <td>78.942497</td>\n",
       "      <td>81803200</td>\n",
       "      <td>0.0</td>\n",
       "    </tr>\n",
       "    <tr>\n",
       "      <th>171</th>\n",
       "      <td>46 Stocks Moving In Friday's Mid-Day Session</td>\n",
       "      <td>https://www.benzinga.com/news/20/05/16095921/4...</td>\n",
       "      <td>Lisa Levin</td>\n",
       "      <td>2020-05-22</td>\n",
       "      <td>XENE</td>\n",
       "      <td>77.682709</td>\n",
       "      <td>79.722504</td>\n",
       "      <td>79.807503</td>\n",
       "      <td>78.837502</td>\n",
       "      <td>78.942497</td>\n",
       "      <td>81803200</td>\n",
       "      <td>0.0</td>\n",
       "    </tr>\n",
       "  </tbody>\n",
       "</table>\n",
       "<p>172 rows × 12 columns</p>\n",
       "</div>"
      ],
      "text/plain": [
       "                                         headline  \\\n",
       "0         Stocks That Hit 52-Week Highs On Friday   \n",
       "1         Stocks That Hit 52-Week Highs On Friday   \n",
       "2         Stocks That Hit 52-Week Highs On Friday   \n",
       "3         Stocks That Hit 52-Week Highs On Friday   \n",
       "4         Stocks That Hit 52-Week Highs On Friday   \n",
       "..                                            ...   \n",
       "167  46 Stocks Moving In Friday's Mid-Day Session   \n",
       "168  46 Stocks Moving In Friday's Mid-Day Session   \n",
       "169  46 Stocks Moving In Friday's Mid-Day Session   \n",
       "170  46 Stocks Moving In Friday's Mid-Day Session   \n",
       "171  46 Stocks Moving In Friday's Mid-Day Session   \n",
       "\n",
       "                                                   url          publisher  \\\n",
       "0    https://www.benzinga.com/news/20/06/16190091/s...  Benzinga Insights   \n",
       "1    https://www.benzinga.com/news/20/06/16190091/s...  Benzinga Insights   \n",
       "2    https://www.benzinga.com/news/20/06/16190091/s...  Benzinga Insights   \n",
       "3    https://www.benzinga.com/news/20/06/16190091/s...  Benzinga Insights   \n",
       "4    https://www.benzinga.com/news/20/06/16190091/s...  Benzinga Insights   \n",
       "..                                                 ...                ...   \n",
       "167  https://www.benzinga.com/news/20/05/16095921/4...         Lisa Levin   \n",
       "168  https://www.benzinga.com/news/20/05/16095921/4...         Lisa Levin   \n",
       "169  https://www.benzinga.com/news/20/05/16095921/4...         Lisa Levin   \n",
       "170  https://www.benzinga.com/news/20/05/16095921/4...         Lisa Levin   \n",
       "171  https://www.benzinga.com/news/20/05/16095921/4...         Lisa Levin   \n",
       "\n",
       "           Date stock  Adj Close      Close       High        Low       Open  \\\n",
       "0    2020-06-05     A  80.754562  82.875000  82.937500  80.807503  80.837502   \n",
       "1    2020-06-05  AAWW  80.754562  82.875000  82.937500  80.807503  80.837502   \n",
       "2    2020-06-05   ABC  80.754562  82.875000  82.937500  80.807503  80.837502   \n",
       "3    2020-06-05  ACTG  80.754562  82.875000  82.937500  80.807503  80.837502   \n",
       "4    2020-06-05   ADI  80.754562  82.875000  82.937500  80.807503  80.837502   \n",
       "..          ...   ...        ...        ...        ...        ...        ...   \n",
       "167  2020-05-22  RENN  77.682709  79.722504  79.807503  78.837502  78.942497   \n",
       "168  2020-05-22  SEAC  77.682709  79.722504  79.807503  78.837502  78.942497   \n",
       "169  2020-05-22  SPLK  77.682709  79.722504  79.807503  78.837502  78.942497   \n",
       "170  2020-05-22  TTOO  77.682709  79.722504  79.807503  78.837502  78.942497   \n",
       "171  2020-05-22  XENE  77.682709  79.722504  79.807503  78.837502  78.942497   \n",
       "\n",
       "        Volume  Sentiment  \n",
       "0    137250400        0.0  \n",
       "1    137250400        0.0  \n",
       "2    137250400        0.0  \n",
       "3    137250400        0.0  \n",
       "4    137250400        0.0  \n",
       "..         ...        ...  \n",
       "167   81803200        0.0  \n",
       "168   81803200        0.0  \n",
       "169   81803200        0.0  \n",
       "170   81803200        0.0  \n",
       "171   81803200        0.0  \n",
       "\n",
       "[172 rows x 12 columns]"
      ]
     },
     "execution_count": 29,
     "metadata": {},
     "output_type": "execute_result"
    }
   ],
   "source": [
    "analysis.merged_data"
   ]
  },
  {
   "cell_type": "code",
   "execution_count": 30,
   "id": "b3307565-e6a9-4cf2-bc28-fe8214f19740",
   "metadata": {},
   "outputs": [
    {
     "name": "stdout",
     "output_type": "stream",
     "text": [
      "                                              headline  Sentiment\n",
      "150  Agilent Technologies shares are trading higher...       0.25\n"
     ]
    }
   ],
   "source": [
    "# Filter the merged_data to get rows where Sentiment is 0.25\n",
    "headlines_with_sentiment_025 = analysis.merged_data[analysis.merged_data['Sentiment'] == 0.25]\n",
    "\n",
    "# Print the filtered headlines\n",
    "print(headlines_with_sentiment_025[['headline', 'Sentiment']])\n"
   ]
  },
  {
   "cell_type": "code",
   "execution_count": 31,
   "id": "4e969978-a79b-42eb-851a-ac39d1f91305",
   "metadata": {},
   "outputs": [],
   "source": [
    "analysis.compute_daily_returns()"
   ]
  },
  {
   "cell_type": "code",
   "execution_count": 33,
   "id": "8ae979df-f098-475e-8335-a38bc86d2798",
   "metadata": {},
   "outputs": [
    {
     "data": {
      "text/plain": [
       "0      NaN\n",
       "1      0.0\n",
       "2      0.0\n",
       "3      0.0\n",
       "4      0.0\n",
       "      ... \n",
       "167    0.0\n",
       "168    0.0\n",
       "169    0.0\n",
       "170    0.0\n",
       "171    0.0\n",
       "Name: Daily_Return, Length: 172, dtype: float64"
      ]
     },
     "execution_count": 33,
     "metadata": {},
     "output_type": "execute_result"
    }
   ],
   "source": [
    "analysis.merged_data['Daily_Return']"
   ]
  },
  {
   "cell_type": "code",
   "execution_count": null,
   "id": "2ab28baa-d575-4d8f-9c4b-08754fce83fe",
   "metadata": {},
   "outputs": [],
   "source": []
  }
 ],
 "metadata": {
  "kernelspec": {
   "display_name": "Python 3 (ipykernel)",
   "language": "python",
   "name": "python3"
  },
  "language_info": {
   "codemirror_mode": {
    "name": "ipython",
    "version": 3
   },
   "file_extension": ".py",
   "mimetype": "text/x-python",
   "name": "python",
   "nbconvert_exporter": "python",
   "pygments_lexer": "ipython3",
   "version": "3.8.10"
  }
 },
 "nbformat": 4,
 "nbformat_minor": 5
}
