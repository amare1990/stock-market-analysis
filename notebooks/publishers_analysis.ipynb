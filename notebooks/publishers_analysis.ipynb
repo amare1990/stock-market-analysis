{
 "cells": [
  {
   "cell_type": "code",
   "execution_count": 1,
   "id": "e544b551-5b35-4258-9ddf-4c5ff9c96a16",
   "metadata": {},
   "outputs": [],
   "source": [
    "import os, sys\n",
    "sys.path.append(os.path.abspath(os.path.join('..', 'scripts')))"
   ]
  },
  {
   "cell_type": "code",
   "execution_count": null,
   "id": "aa6f6c10-1098-4a5e-a71b-6979789a0e1b",
   "metadata": {},
   "outputs": [],
   "source": [
    "from load_data import load_data\n",
    "df = load_data(\"/home/am/Documents/Software Development/10_Academy Training/week1/Data/raw_analyst_ratings.csv\")"
   ]
  },
  {
   "cell_type": "code",
   "execution_count": null,
   "id": "7dfbd482-3e66-4b02-a894-4a8fca2b2bf9",
   "metadata": {},
   "outputs": [],
   "source": [
    "import matplotlib.pyplot as plt\n",
    "from publisher_contribution import analyze_publisher_domains\n",
    "\n",
    "# If publisher names are email addresses, analyze publisher domains\n",
    "publisher_domains = analyze_publisher_domains(df, publisher_column='publisher')\n",
    "\n",
    "save_path = \"plots/publishers_domain.png\"\n",
    "os.makedirs(os.path.dirname(save_path), exist_ok=True)\n",
    "\n",
    "# Save the plot to the specified path\n",
    "plt.savefig(save_path)"
   ]
  },
  {
   "cell_type": "code",
   "execution_count": null,
   "id": "16d49750-27c4-497f-b7d7-1105c0f62dca",
   "metadata": {},
   "outputs": [],
   "source": [
    "import matplotlib.pyplot as plt\n",
    "from publisher_contribution import analyze_publisher_domains\n",
    "\n",
    "# If publisher names are email addresses, analyze publisher domains\n",
    "publisher_domains = analyze_publisher_domains(df, publisher_column='publisher')\n",
    "\n",
    "save_path = \"plots/publishers_domain.png\"\n",
    "os.makedirs(os.path.dirname(save_path), exist_ok=True)\n",
    "\n",
    "# Save the plot to the specified path\n",
    "plt.savefig(save_path)"
   ]
  }
 ],
 "metadata": {
  "kernelspec": {
   "display_name": "Python 3 (ipykernel)",
   "language": "python",
   "name": "python3"
  },
  "language_info": {
   "codemirror_mode": {
    "name": "ipython",
    "version": 3
   },
   "file_extension": ".py",
   "mimetype": "text/x-python",
   "name": "python",
   "nbconvert_exporter": "python",
   "pygments_lexer": "ipython3",
   "version": "3.8.10"
  }
 },
 "nbformat": 4,
 "nbformat_minor": 5
}
