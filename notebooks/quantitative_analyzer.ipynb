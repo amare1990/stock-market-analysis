{
 "cells": [
  {
   "cell_type": "code",
   "execution_count": 1,
   "id": "70dab390-5b86-4da4-98c0-11394f631a2d",
   "metadata": {},
   "outputs": [],
   "source": [
    "import os, sys\n",
    "curr_dir = os.getcwd()"
   ]
  },
  {
   "cell_type": "code",
   "execution_count": 2,
   "id": "18bf8c93-d88b-4804-b498-a50de8095e2c",
   "metadata": {},
   "outputs": [],
   "source": [
    "parent_dir = os.path.dirname(curr_dir)\n",
    "# Insert the path to the parent directory\n",
    "sys.path.insert(0, parent_dir)"
   ]
  },
  {
   "cell_type": "code",
   "execution_count": 3,
   "id": "ea5d114e-c59a-4761-a058-85fde2891911",
   "metadata": {},
   "outputs": [],
   "source": [
    "from scripts.quantitative_analysis import stock_quantitative_analyzer"
   ]
  },
  {
   "cell_type": "code",
   "execution_count": 4,
   "id": "a2828c81-14c3-4e65-8a87-0188bbb68b04",
   "metadata": {},
   "outputs": [],
   "source": [
    "import yfinance as yf\n",
    "ticker = 'AAPL'\n",
    "start_date = '2023-01-01'\n",
    "end_date = '2023-12-31'\n",
    "output_folder = 'visualizations'"
   ]
  },
  {
   "cell_type": "code",
   "execution_count": 5,
   "id": "e222e21e-06ac-4f44-ae5d-73140435c84b",
   "metadata": {},
   "outputs": [
    {
     "name": "stderr",
     "output_type": "stream",
     "text": [
      "\n",
      "*********************100%***********************]  1 of 1 completed"
     ]
    }
   ],
   "source": [
    "analyzer = stock_quantitative_analyzer(ticker, start_date, end_date, output_folder)"
   ]
  },
  {
   "cell_type": "code",
   "execution_count": 6,
   "id": "80b62ccd-2899-4df2-b4f6-7350e94693cc",
   "metadata": {},
   "outputs": [
    {
     "name": "stderr",
     "output_type": "stream",
     "text": [
      "\n",
      "*********************100%***********************]  1 of 1 completed"
     ]
    }
   ],
   "source": [
    "analyzer.stock_data = yf.download(ticker, start=start_date, end=end_date)"
   ]
  },
  {
   "cell_type": "code",
   "execution_count": null,
   "id": "a375b316-dbcb-4764-9e63-c3795f94fcbc",
   "metadata": {},
   "outputs": [],
   "source": [
    "# Clean columns from the downloaded dataset\n",
    "df = analyzer.stock_data\n",
    "# Reset the index to make 'Date' a column\n",
    "df.reset_index(inplace=True)\n",
    "\n",
    "# Flatten the MultiIndex columns (if present)\n",
    "df.columns = [col[0] if isinstance(col, tuple) else col for col in df.columns]\n",
    "\n",
    "# Select the required columns and reorder them\n",
    "required_columns = [\"Date\", \"Open\", \"High\", \"Low\", \"Close\", \"Adj Close\", \"Volume\"]\n",
    "cleaned_data = df[required_columns]\n"
   ]
  },
  {
   "cell_type": "code",
   "execution_count": null,
   "id": "cfc5dea5-ab63-4cab-93cf-0e0df6fc1f63",
   "metadata": {},
   "outputs": [],
   "source": [
    "df = cleaned_data\n",
    "analyzer.stock_data = df\n",
    "analyzer.calculate_indicators()"
   ]
  },
  {
   "cell_type": "code",
   "execution_count": null,
   "id": "cf54ef21-8fc1-45e2-9030-76caf41b5b4d",
   "metadata": {},
   "outputs": [],
   "source": [
    "# Plot Close price over SMA\n",
    "analyzer.stock_data = df\n",
    "analyzer.plot_stock_data()"
   ]
  },
  {
   "cell_type": "code",
   "execution_count": null,
   "id": "555301a1-bf50-49b7-863b-eb46b2edc025",
   "metadata": {},
   "outputs": [],
   "source": [
    "# Plot Close price over RSI\n",
    "analyzer.stock_data = df\n",
    "analyzer.plot_rsi()"
   ]
  },
  {
   "cell_type": "code",
   "execution_count": null,
   "id": "045d1618-a0b7-4bc0-8704-dad97aece302",
   "metadata": {},
   "outputs": [],
   "source": [
    "# Plot the stock price(Close price) over MACD, MACD_signal, MACD, hist\n",
    "analyzer.plot_macd()"
   ]
  },
  {
   "cell_type": "code",
   "execution_count": null,
   "id": "3d89f4af-7674-4c16-b9df-3aab32f77ddc",
   "metadata": {},
   "outputs": [],
   "source": [
    "# Plot the entire indicators vs. stock price\n",
    "analyzer.plot_indicators()"
   ]
  },
  {
   "cell_type": "code",
   "execution_count": null,
   "id": "43ed1cd7-8729-4da0-ba19-40f028c35143",
   "metadata": {},
   "outputs": [],
   "source": []
  }
 ],
 "metadata": {
  "kernelspec": {
   "display_name": "Python 3 (ipykernel)",
   "language": "python",
   "name": "python3"
  },
  "language_info": {
   "codemirror_mode": {
    "name": "ipython",
    "version": 3
   },
   "file_extension": ".py",
   "mimetype": "text/x-python",
   "name": "python",
   "nbconvert_exporter": "python",
   "pygments_lexer": "ipython3",
   "version": "3.8.10"
  }
 },
 "nbformat": 4,
 "nbformat_minor": 5
}
