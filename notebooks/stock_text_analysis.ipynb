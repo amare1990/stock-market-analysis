{
 "cells": [
  {
   "cell_type": "code",
   "execution_count": 13,
   "id": "f67b0107-aa30-4940-83c0-0348fb99e35e",
   "metadata": {},
   "outputs": [],
   "source": [
    "# Get the parent directory\n",
    "import os, sys\n",
    "sys.path.insert(0, os.path.dirname(os.getcwd()))"
   ]
  },
  {
   "cell_type": "code",
   "execution_count": 15,
   "id": "c76347b8-d48b-44b1-9fb3-21349fbde77e",
   "metadata": {},
   "outputs": [],
   "source": [
    "from scripts.load_data import load_data\n",
    "df = load_data(\"/home/am/Documents/Software Development/10_Academy Training/week1/Data/raw_analyst_ratings.csv\")"
   ]
  },
  {
   "cell_type": "code",
   "execution_count": 16,
   "id": "85b9d651-dace-4ca2-ae07-34d183821b82",
   "metadata": {},
   "outputs": [
    {
     "name": "stdout",
     "output_type": "stream",
     "text": [
      "sentiment_label\n",
      "neutral     934914\n",
      "positive    341178\n",
      "negative    131236\n",
      "Name: count, dtype: int64\n"
     ]
    }
   ],
   "source": [
    "# Perform sentiment analysis on the news data\n",
    "from scripts.stock_text import perform_sentiment_analysis\n",
    "df = perform_sentiment_analysis(df, column='headline')\n",
    "\n",
    "# Display sentiment counts\n",
    "print(df['sentiment_label'].value_counts())"
   ]
  },
  {
   "cell_type": "code",
   "execution_count": null,
   "id": "e86e1f35-4df9-4fcc-86de-8ac1e106fa8b",
   "metadata": {},
   "outputs": [],
   "source": [
    "from scripts.stock_text import extract_topics\n",
    "# Extract topics\n",
    "topics = extract_topics(df, column='headline', num_topics=5, num_keywords=5)\n",
    "\n",
    "# Display topics\n",
    "for topic, keywords in topics.items():\n",
    "    print(f\"{topic}: {', '.join(keywords)}\")"
   ]
  },
  {
   "cell_type": "code",
   "execution_count": null,
   "id": "f1a97d0c-6895-43be-8cf5-ae49c4b3f30e",
   "metadata": {},
   "outputs": [],
   "source": []
  }
 ],
 "metadata": {
  "kernelspec": {
   "display_name": "Python 3 (ipykernel)",
   "language": "python",
   "name": "python3"
  },
  "language_info": {
   "codemirror_mode": {
    "name": "ipython",
    "version": 3
   },
   "file_extension": ".py",
   "mimetype": "text/x-python",
   "name": "python",
   "nbconvert_exporter": "python",
   "pygments_lexer": "ipython3",
   "version": "3.8.10"
  }
 },
 "nbformat": 4,
 "nbformat_minor": 5
}
