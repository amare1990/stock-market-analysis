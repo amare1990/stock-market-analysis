{
 "cells": [
  {
   "cell_type": "code",
   "execution_count": 13,
   "id": "f67b0107-aa30-4940-83c0-0348fb99e35e",
   "metadata": {},
   "outputs": [],
   "source": [
    "# Get the parent directory\n",
    "import os, sys\n",
    "sys.path.insert(0, os.path.dirname(os.getcwd()))"
   ]
  },
  {
   "cell_type": "code",
   "execution_count": 14,
   "id": "4cafaa25-db85-478f-82c2-94c87ce22f31",
   "metadata": {},
   "outputs": [
    {
     "name": "stdout",
     "output_type": "stream",
     "text": [
      "Number of stopwords: 179\n"
     ]
    },
    {
     "name": "stderr",
     "output_type": "stream",
     "text": [
      "[nltk_data] Downloading package stopwords to /home/am/corpus/...\n",
      "[nltk_data]   Package stopwords is already up-to-date!\n"
     ]
    }
   ],
   "source": [
    "import nltk\n",
    "from nltk.corpus import stopwords\n",
    "\n",
    "# Add NLTK data path\n",
    "nltk.data.path.append('/home/am/corpus/')\n",
    "\n",
    "# Download stopwords if not already downloaded\n",
    "nltk.download('stopwords', download_dir='/home/am/corpus/')\n",
    "\n",
    "# Verify stopwords\n",
    "try:\n",
    "    stop_words = set(stopwords.words('english'))\n",
    "    print(f\"Number of stopwords: {len(stop_words)}\")\n",
    "except LookupError as e:\n",
    "    print(f\"Error loading stopwords: {e}\")\n"
   ]
  },
  {
   "cell_type": "code",
   "execution_count": 15,
   "id": "c76347b8-d48b-44b1-9fb3-21349fbde77e",
   "metadata": {},
   "outputs": [],
   "source": [
    "from scripts.load_data import load_data\n",
    "df = load_data(\"/home/am/Documents/Software Development/10_Academy Training/week1/Data/raw_analyst_ratings.csv\")"
   ]
  },
  {
   "cell_type": "code",
   "execution_count": 16,
   "id": "85b9d651-dace-4ca2-ae07-34d183821b82",
   "metadata": {},
   "outputs": [
    {
     "name": "stdout",
     "output_type": "stream",
     "text": [
      "sentiment_label\n",
      "neutral     934914\n",
      "positive    341178\n",
      "negative    131236\n",
      "Name: count, dtype: int64\n"
     ]
    }
   ],
   "source": [
    "# Perform sentiment analysis on the news data\n",
    "from scripts.stock_text import perform_sentiment_analysis\n",
    "df = perform_sentiment_analysis(df, column='headline')\n",
    "\n",
    "# Display sentiment counts\n",
    "print(df['sentiment_label'].value_counts())"
   ]
  },
  {
   "cell_type": "code",
   "execution_count": null,
   "id": "e86e1f35-4df9-4fcc-86de-8ac1e106fa8b",
   "metadata": {},
   "outputs": [],
   "source": [
    "from scripts.stock_text import extract_topics\n",
    "# Extract topics\n",
    "topics = extract_topics(df, column='headline', num_topics=5, num_keywords=5)\n",
    "\n",
    "# Display topics\n",
    "for topic, keywords in topics.items():\n",
    "    print(f\"{topic}: {', '.join(keywords)}\")"
   ]
  },
  {
   "cell_type": "code",
   "execution_count": null,
   "id": "1420ba5b-79e1-4461-bf42-71b33b6cc890",
   "metadata": {},
   "outputs": [],
   "source": [
    "import matplotlib.pyplot as plt\n",
    "from scripts.stock_time_series import analyze_publication_frequency\n",
    "\n",
    "# Publication frequency vs date\n",
    "daily_counts = analyze_publication_frequency(df, date_column='date')\n",
    "save_path = \"plots/publication_frequency.png\"\n",
    "    \n",
    "# Ensure the 'plots' directory exists\n",
    "os.makedirs(os.path.dirname(save_path), exist_ok=True)\n",
    "\n",
    "# Save the plot to the specified path\n",
    "plt.savefig(save_path)"
   ]
  },
  {
   "cell_type": "code",
   "execution_count": null,
   "id": "12df8e77-b0d0-48b9-b426-edad7c3f9622",
   "metadata": {},
   "outputs": [],
   "source": [
    "from scripts.stock_time_series import analyze_publishing_times\n",
    "# Analyze publishing times per day\n",
    "hourly_counts = analyze_publishing_times(df, date_column='date')\n",
    "save_path = \"plots/publication_times.png\"\n",
    "os.makedirs(os.path.dirname(save_path), exist_ok=True)\n",
    "plt.savefig(save_path)"
   ]
  },
  {
   "cell_type": "code",
   "execution_count": null,
   "id": "f1a97d0c-6895-43be-8cf5-ae49c4b3f30e",
   "metadata": {},
   "outputs": [],
   "source": []
  }
 ],
 "metadata": {
  "kernelspec": {
   "display_name": "Python 3 (ipykernel)",
   "language": "python",
   "name": "python3"
  },
  "language_info": {
   "codemirror_mode": {
    "name": "ipython",
    "version": 3
   },
   "file_extension": ".py",
   "mimetype": "text/x-python",
   "name": "python",
   "nbconvert_exporter": "python",
   "pygments_lexer": "ipython3",
   "version": "3.8.10"
  }
 },
 "nbformat": 4,
 "nbformat_minor": 5
}
