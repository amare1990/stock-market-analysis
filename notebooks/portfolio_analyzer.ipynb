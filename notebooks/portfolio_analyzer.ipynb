{
 "cells": [
  {
   "cell_type": "code",
   "execution_count": 1,
   "id": "872b385c-8b67-41db-a480-31d318f3838f",
   "metadata": {},
   "outputs": [],
   "source": [
    "import os, sys\n",
    "cur_dir = os.getcwd()"
   ]
  },
  {
   "cell_type": "code",
   "execution_count": 2,
   "id": "f0d7f568-0c35-4b27-a882-a74a75948c9d",
   "metadata": {},
   "outputs": [],
   "source": [
    "parent_dir = os.path.dirname(cur_dir)"
   ]
  },
  {
   "cell_type": "code",
   "execution_count": 3,
   "id": "3dbf36c5-1120-4dca-a6d6-933f270b4cbd",
   "metadata": {},
   "outputs": [],
   "source": [
    "sys.path.insert(0, parent_dir)"
   ]
  },
  {
   "cell_type": "code",
   "execution_count": 4,
   "id": "4478c2c8-4b31-4720-b8de-2c9baaef06de",
   "metadata": {},
   "outputs": [
    {
     "name": "stderr",
     "output_type": "stream",
     "text": [
      "/home/am/Documents/Software Development/10_Academy Training/week1/stock-market-analysis/venv-stock/lib/python3.8/site-packages/pyfolio/pos.py:26: UserWarning: Module \"zipline.assets\" not found; mutltipliers will not be applied to position notionals.\n",
      "  warnings.warn(\n"
     ]
    }
   ],
   "source": [
    "from scripts.portfolio_analysis import PortfolioOptimizer"
   ]
  },
  {
   "cell_type": "code",
   "execution_count": 5,
   "id": "08e2997c-8cad-43b4-8c50-18c2c2c3a7aa",
   "metadata": {},
   "outputs": [],
   "source": [
    "# Define the tickers, date range, and output folder\n",
    "tickers = ['AAPL', 'GOOGL', 'MSFT', 'TSLA', 'AMZN', 'META', 'NVDA']\n",
    "start_date = '2020-01-01'\n",
    "end_date = '2021-01-01'\n",
    "output_folder = './plots'"
   ]
  },
  {
   "cell_type": "code",
   "execution_count": 6,
   "id": "c8e1bad4-d0cd-4f61-896e-8ff0591e1ee7",
   "metadata": {},
   "outputs": [
    {
     "name": "stderr",
     "output_type": "stream",
     "text": [
      "\n",
      "*********************100%***********************]  7 of 7 completed"
     ]
    }
   ],
   "source": [
    "# Create an instance of the PortfolioOptimizer class\n",
    "output_folder = 'visualizations/plot_returns/'\n",
    "optimizer = PortfolioOptimizer(tickers, start_date, end_date, output_folder)"
   ]
  },
  {
   "cell_type": "code",
   "execution_count": 7,
   "id": "42da5d1c-5f5f-4016-af2e-f01847ff885e",
   "metadata": {},
   "outputs": [
    {
     "name": "stdout",
     "output_type": "stream",
     "text": [
      "Optimal Portfolio Weights: OrderedDict([('AAPL', 0.0), ('AMZN', 0.0), ('GOOGL', 0.0), ('META', 0.0), ('MSFT', 0.0), ('NVDA', 0.0), ('TSLA', 1.0)])\n"
     ]
    }
   ],
   "source": [
    "# 1. Calculate optimal portfolio weights\n",
    "weights = optimizer.calculate_portfolio_weights()\n",
    "print(\"Optimal Portfolio Weights:\", weights)"
   ]
  },
  {
   "cell_type": "code",
   "execution_count": 8,
   "id": "97aabf44-8093-46a5-9893-6e6590a0acae",
   "metadata": {
    "scrolled": true
   },
   "outputs": [
    {
     "name": "stdout",
     "output_type": "stream",
     "text": [
      "Portfolio Performance:\n",
      " Annual return           7.132586\n",
      "Cumulative returns      7.200506\n",
      "Annual volatility       0.892890\n",
      "Sharpe ratio            2.803667\n",
      "Calmar ratio           11.764792\n",
      "Stability               0.903651\n",
      "Max drawdown           -0.606265\n",
      "Omega ratio             1.647837\n",
      "Sortino ratio           4.495326\n",
      "Skew                   -0.175533\n",
      "Kurtosis                2.220631\n",
      "Tail ratio              1.415640\n",
      "Daily value at risk    -0.102560\n",
      "dtype: float64\n"
     ]
    }
   ],
   "source": [
    "# 2. Calculate portfolio performance\n",
    "performance = optimizer.calculate_performance(weights)\n",
    "print(\"Portfolio Performance:\\n\", performance)"
   ]
  },
  {
   "cell_type": "code",
   "execution_count": 9,
   "id": "cc8ccee3-c697-4690-b502-b3ce37e895d4",
   "metadata": {},
   "outputs": [
    {
     "name": "stdout",
     "output_type": "stream",
     "text": [
      "Plot saved at visualizations/plot_returns/portfolio_returns.png\n"
     ]
    }
   ],
   "source": [
    "# 3. Plot portfolio returns\n",
    "optimizer.plot_portfolio_returns(weights)"
   ]
  }
 ],
 "metadata": {
  "kernelspec": {
   "display_name": "Python 3 (ipykernel)",
   "language": "python",
   "name": "python3"
  },
  "language_info": {
   "codemirror_mode": {
    "name": "ipython",
    "version": 3
   },
   "file_extension": ".py",
   "mimetype": "text/x-python",
   "name": "python",
   "nbconvert_exporter": "python",
   "pygments_lexer": "ipython3",
   "version": "3.8.10"
  }
 },
 "nbformat": 4,
 "nbformat_minor": 5
}
