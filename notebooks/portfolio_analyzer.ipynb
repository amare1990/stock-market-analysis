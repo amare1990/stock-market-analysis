{
 "cells": [
  {
   "cell_type": "code",
   "execution_count": 3,
   "id": "872b385c-8b67-41db-a480-31d318f3838f",
   "metadata": {},
   "outputs": [],
   "source": [
    "import os, sys\n",
    "cur_dir = os.getcwd()"
   ]
  },
  {
   "cell_type": "code",
   "execution_count": 4,
   "id": "f0d7f568-0c35-4b27-a882-a74a75948c9d",
   "metadata": {},
   "outputs": [],
   "source": [
    "parent_dir = os.path.dirname(cur_dir)"
   ]
  },
  {
   "cell_type": "code",
   "execution_count": 5,
   "id": "1dee7fea-acad-49a1-8e30-781cc68c7985",
   "metadata": {},
   "outputs": [
    {
     "data": {
      "text/plain": [
       "'/home/am/Documents/Software Development/10_Academy Training/week1/stock-market-analysis'"
      ]
     },
     "execution_count": 5,
     "metadata": {},
     "output_type": "execute_result"
    }
   ],
   "source": [
    "parent_dir"
   ]
  },
  {
   "cell_type": "code",
   "execution_count": 6,
   "id": "3dbf36c5-1120-4dca-a6d6-933f270b4cbd",
   "metadata": {},
   "outputs": [],
   "source": [
    "sys.path.insert(0, parent_dir)"
   ]
  },
  {
   "cell_type": "code",
   "execution_count": 8,
   "id": "4478c2c8-4b31-4720-b8de-2c9baaef06de",
   "metadata": {},
   "outputs": [],
   "source": [
    "from scripts.portfolio_analysis import PortfolioOptimizer"
   ]
  },
  {
   "cell_type": "code",
   "execution_count": 12,
   "id": "08e2997c-8cad-43b4-8c50-18c2c2c3a7aa",
   "metadata": {},
   "outputs": [],
   "source": [
    "# Define the tickers, date range, and output folder\n",
    "tickers = ['AAPL', 'GOOGL', 'MSFT', 'TSLA', 'AMZN', 'META', 'NVDA']\n",
    "start_date = '2020-01-01'\n",
    "end_date = '2021-01-01'\n",
    "output_folder = './plots'"
   ]
  },
  {
   "cell_type": "code",
   "execution_count": 13,
   "id": "c8e1bad4-d0cd-4f61-896e-8ff0591e1ee7",
   "metadata": {},
   "outputs": [
    {
     "name": "stderr",
     "output_type": "stream",
     "text": [
      "\n",
      "*********************100%***********************]  7 of 7 completed"
     ]
    }
   ],
   "source": [
    "# Create an instance of the PortfolioOptimizer class\n",
    "optimizer = PortfolioOptimizer(tickers, start_date, end_date, output_folder)"
   ]
  },
  {
   "cell_type": "code",
   "execution_count": 11,
   "id": "42da5d1c-5f5f-4016-af2e-f01847ff885e",
   "metadata": {},
   "outputs": [
    {
     "name": "stdout",
     "output_type": "stream",
     "text": [
      "Optimal Portfolio Weights: OrderedDict([('AAPL', 1.0), ('GOOGL', 0.0), ('MSFT', 0.0)])\n"
     ]
    }
   ],
   "source": [
    "# 1. Calculate optimal portfolio weights\n",
    "weights = optimizer.calculate_portfolio_weights()\n",
    "print(\"Optimal Portfolio Weights:\", weights)"
   ]
  },
  {
   "cell_type": "code",
   "execution_count": null,
   "id": "97aabf44-8093-46a5-9893-6e6590a0acae",
   "metadata": {},
   "outputs": [],
   "source": []
  }
 ],
 "metadata": {
  "kernelspec": {
   "display_name": "Python 3 (ipykernel)",
   "language": "python",
   "name": "python3"
  },
  "language_info": {
   "codemirror_mode": {
    "name": "ipython",
    "version": 3
   },
   "file_extension": ".py",
   "mimetype": "text/x-python",
   "name": "python",
   "nbconvert_exporter": "python",
   "pygments_lexer": "ipython3",
   "version": "3.8.10"
  }
 },
 "nbformat": 4,
 "nbformat_minor": 5
}
